{
 "cells": [
  {
   "cell_type": "code",
   "execution_count": 17,
   "id": "3d2cd8bd",
   "metadata": {},
   "outputs": [],
   "source": [
    "from google.cloud import storage"
   ]
  },
  {
   "cell_type": "code",
   "execution_count": 18,
   "id": "5486fc92",
   "metadata": {},
   "outputs": [],
   "source": [
    "storage_client = storage.Client()"
   ]
  },
  {
   "cell_type": "code",
   "execution_count": null,
   "id": "faa275bd",
   "metadata": {},
   "outputs": [],
   "source": [
    "bucket_name = \"10bt_gpt4\""
   ]
  },
  {
   "cell_type": "code",
   "execution_count": 26,
   "id": "801c3fc2",
   "metadata": {},
   "outputs": [
    {
     "name": "stdout",
     "output_type": "stream",
     "text": [
      "bucket 10bt_gpt4 accessed.\n"
     ]
    }
   ],
   "source": [
    "bucket = storage_client.bucket(bucket_name)\n",
    "print(f\"bucket {bucket.name} accessed.\")"
   ]
  },
  {
   "cell_type": "code",
   "execution_count": 27,
   "id": "93dccc1e",
   "metadata": {},
   "outputs": [],
   "source": [
    "from google.cloud import storage\n",
    "\n",
    "\n",
    "def upload_blob(bucket_name, source_file_name, destination_blob_name):\n",
    "    \"\"\"Uploads a file to the bucket.\"\"\"\n",
    "    # The ID of your GCS bucket\n",
    "    # bucket_name = \"your-bucket-name\"\n",
    "    # The path to your file to upload\n",
    "    # source_file_name = \"local/path/to/file\"\n",
    "    # The ID of your GCS object\n",
    "    # destination_blob_name = \"storage-object-name\"\n",
    "\n",
    "    storage_client = storage.Client()\n",
    "    bucket = storage_client.bucket(bucket_name)\n",
    "    blob = bucket.blob(destination_blob_name)\n",
    "\n",
    "    # Optional: set a generation-match precondition to avoid potential race conditions\n",
    "    # and data corruptions. The request to upload is aborted if the object's\n",
    "    # generation number does not match your precondition. For a destination\n",
    "    # object that does not yet exist, set the if_generation_match precondition to 0.\n",
    "    # If the destination object already exists in your bucket, set instead a\n",
    "    # generation-match precondition using its generation number.\n",
    "    generation_match_precondition = 0\n",
    "\n",
    "    blob.upload_from_filename(source_file_name, if_generation_match=generation_match_precondition)\n",
    "\n",
    "    print(\n",
    "        f\"File {source_file_name} uploaded to {destination_blob_name}.\"\n",
    "    )\n"
   ]
  },
  {
   "cell_type": "markdown",
   "id": "ec06a127",
   "metadata": {},
   "source": []
  },
  {
   "cell_type": "code",
   "execution_count": 28,
   "id": "70eae326",
   "metadata": {},
   "outputs": [
    {
     "name": "stdout",
     "output_type": "stream",
     "text": [
      "File /Users/chinmay/Programming/deep_learning/data/edu_fineweb10B/edufineweb_train_000001.npy uploaded to edufineweb_train_000001.npy.\n"
     ]
    }
   ],
   "source": [
    "upload_blob(\"10bt_gpt4\", \"/Users/chinmay/Programming/deep_learning/data/edu_fineweb10B/edufineweb_train_000001.npy\", \"edufineweb_train_000001.npy\")"
   ]
  },
  {
   "cell_type": "code",
   "execution_count": null,
   "id": "4ec417f4",
   "metadata": {},
   "outputs": [],
   "source": []
  },
  {
   "cell_type": "code",
   "execution_count": 37,
   "id": "51ae2981",
   "metadata": {},
   "outputs": [],
   "source": [
    "def upload_many_blobs_with_transfer_manager(\n",
    "    bucket_name, filenames, source_directory=\"\", workers=8\n",
    "):\n",
    "    \"\"\"Upload every file in a list to a bucket, concurrently in a process pool.\n",
    "\n",
    "    Each blob name is derived from the filename, not including the\n",
    "    `source_directory` parameter. For complete control of the blob name for each\n",
    "    file (and other aspects of individual blob metadata), use\n",
    "    transfer_manager.upload_many() instead.\n",
    "    \"\"\"\n",
    "\n",
    "    # The ID of your GCS bucket\n",
    "    # bucket_name = \"your-bucket-name\"\n",
    "\n",
    "    # A list (or other iterable) of filenames to upload.\n",
    "    # filenames = [\"file_1.txt\", \"file_2.txt\"]\n",
    "\n",
    "    # The directory on your computer that is the root of all of the files in the\n",
    "    # list of filenames. This string is prepended (with os.path.join()) to each\n",
    "    # filename to get the full path to the file. Relative paths and absolute\n",
    "    # paths are both accepted. This string is not included in the name of the\n",
    "    # uploaded blob; it is only used to find the source files. An empty string\n",
    "    # means \"the current working directory\". Note that this parameter allows\n",
    "    # directory traversal (e.g. \"/\", \"../\") and is not intended for unsanitized\n",
    "    # end user input.\n",
    "    # source_directory=\"\"\n",
    "\n",
    "    # The maximum number of processes to use for the operation. The performance\n",
    "    # impact of this value depends on the use case, but smaller files usually\n",
    "    # benefit from a higher number of processes. Each additional process occupies\n",
    "    # some CPU and memory resources until finished. Threads can be used instead\n",
    "    # of processes by passing `worker_type=transfer_manager.THREAD`.\n",
    "    # workers=8\n",
    "\n",
    "    from google.cloud.storage import Client, transfer_manager\n",
    "\n",
    "    storage_client = Client()\n",
    "    bucket = storage_client.bucket(bucket_name)\n",
    "\n",
    "    results = transfer_manager.upload_many_from_filenames(\n",
    "        bucket, filenames, source_directory=source_directory, max_workers=workers\n",
    "    )\n",
    "\n",
    "    for name, result in zip(filenames, results):\n",
    "        # The results list is either `None` or an exception for each filename in\n",
    "        # the input list, in order.\n",
    "\n",
    "        if isinstance(result, Exception):\n",
    "            print(\"Failed to upload {} due to exception: {}\".format(name, result))\n",
    "        else:\n",
    "            print(\"Uploaded {} to {}.\".format(name, bucket.name))"
   ]
  },
  {
   "cell_type": "code",
   "execution_count": 44,
   "id": "bc2cd387",
   "metadata": {},
   "outputs": [],
   "source": [
    "import os\n",
    "DATA_CACHE_DIR = \"/Users/chinmay/Programming/deep_learning/data/edu_fineweb10B\"\n",
    "REMOTE_BUCKET_NAME = \"10bt_gpt4\"\n",
    "file_names = os.listdir(DATA_CACHE_DIR)\n",
    "workers = os.cpu_count() // 2"
   ]
  },
  {
   "cell_type": "code",
   "execution_count": 46,
   "id": "a6c9794e",
   "metadata": {},
   "outputs": [
    {
     "name": "stdout",
     "output_type": "stream",
     "text": [
      "Failed to upload edufineweb_train_000008.npy due to exception: A process in the process pool was terminated abruptly while the future was running or pending.\n",
      "Failed to upload edufineweb_train_000020.npy due to exception: A process in the process pool was terminated abruptly while the future was running or pending.\n",
      "Failed to upload edufineweb_train_000034.npy due to exception: A process in the process pool was terminated abruptly while the future was running or pending.\n",
      "Failed to upload edufineweb_val_000000.npy due to exception: A process in the process pool was terminated abruptly while the future was running or pending.\n",
      "Failed to upload edufineweb_train_000035.npy due to exception: A process in the process pool was terminated abruptly while the future was running or pending.\n",
      "Failed to upload edufineweb_train_000021.npy due to exception: A process in the process pool was terminated abruptly while the future was running or pending.\n",
      "Failed to upload edufineweb_train_000009.npy due to exception: A process in the process pool was terminated abruptly while the future was running or pending.\n",
      "Failed to upload edufineweb_train_000037.npy due to exception: A process in the process pool was terminated abruptly while the future was running or pending.\n",
      "Failed to upload edufineweb_train_000023.npy due to exception: A process in the process pool was terminated abruptly while the future was running or pending.\n",
      "Failed to upload edufineweb_train_000022.npy due to exception: A process in the process pool was terminated abruptly while the future was running or pending.\n",
      "Failed to upload edufineweb_train_000036.npy due to exception: A process in the process pool was terminated abruptly while the future was running or pending.\n",
      "Failed to upload edufineweb_train_000032.npy due to exception: A process in the process pool was terminated abruptly while the future was running or pending.\n",
      "Failed to upload edufineweb_train_000026.npy due to exception: A process in the process pool was terminated abruptly while the future was running or pending.\n",
      "Failed to upload edufineweb_train_000027.npy due to exception: A process in the process pool was terminated abruptly while the future was running or pending.\n",
      "Failed to upload edufineweb_train_000033.npy due to exception: A process in the process pool was terminated abruptly while the future was running or pending.\n",
      "Failed to upload edufineweb_train_000025.npy due to exception: A process in the process pool was terminated abruptly while the future was running or pending.\n",
      "Failed to upload edufineweb_train_000031.npy due to exception: A process in the process pool was terminated abruptly while the future was running or pending.\n",
      "Failed to upload edufineweb_train_000019.npy due to exception: A process in the process pool was terminated abruptly while the future was running or pending.\n",
      "Failed to upload edufineweb_train_000018.npy due to exception: A process in the process pool was terminated abruptly while the future was running or pending.\n",
      "Failed to upload edufineweb_train_000030.npy due to exception: A process in the process pool was terminated abruptly while the future was running or pending.\n",
      "Failed to upload edufineweb_train_000024.npy due to exception: A process in the process pool was terminated abruptly while the future was running or pending.\n",
      "Failed to upload edufineweb_train_000080.npy due to exception: A process in the process pool was terminated abruptly while the future was running or pending.\n",
      "Failed to upload edufineweb_train_000094.npy due to exception: A process in the process pool was terminated abruptly while the future was running or pending.\n",
      "Failed to upload edufineweb_train_000043.npy due to exception: A process in the process pool was terminated abruptly while the future was running or pending.\n",
      "Failed to upload edufineweb_train_000057.npy due to exception: A process in the process pool was terminated abruptly while the future was running or pending.\n",
      "Failed to upload edufineweb_train_000056.npy due to exception: A process in the process pool was terminated abruptly while the future was running or pending.\n",
      "Failed to upload edufineweb_train_000042.npy due to exception: A process in the process pool was terminated abruptly while the future was running or pending.\n",
      "Failed to upload edufineweb_train_000095.npy due to exception: A process in the process pool was terminated abruptly while the future was running or pending.\n",
      "Failed to upload edufineweb_train_000081.npy due to exception: A process in the process pool was terminated abruptly while the future was running or pending.\n",
      "Failed to upload edufineweb_train_000083.npy due to exception: A process in the process pool was terminated abruptly while the future was running or pending.\n",
      "Failed to upload edufineweb_train_000068.npy due to exception: A process in the process pool was terminated abruptly while the future was running or pending.\n",
      "Failed to upload edufineweb_train_000054.npy due to exception: A process in the process pool was terminated abruptly while the future was running or pending.\n",
      "Failed to upload edufineweb_train_000040.npy due to exception: A process in the process pool was terminated abruptly while the future was running or pending.\n",
      "Failed to upload edufineweb_train_000041.npy due to exception: A process in the process pool was terminated abruptly while the future was running or pending.\n",
      "Failed to upload edufineweb_train_000055.npy due to exception: A process in the process pool was terminated abruptly while the future was running or pending.\n",
      "Failed to upload edufineweb_train_000069.npy due to exception: A process in the process pool was terminated abruptly while the future was running or pending.\n",
      "Failed to upload edufineweb_train_000082.npy due to exception: A process in the process pool was terminated abruptly while the future was running or pending.\n",
      "Failed to upload edufineweb_train_000096.npy due to exception: A process in the process pool was terminated abruptly while the future was running or pending.\n",
      "Failed to upload edufineweb_train_000092.npy due to exception: A process in the process pool was terminated abruptly while the future was running or pending.\n",
      "Failed to upload edufineweb_train_000086.npy due to exception: A process in the process pool was terminated abruptly while the future was running or pending.\n",
      "Failed to upload edufineweb_train_000051.npy due to exception: A process in the process pool was terminated abruptly while the future was running or pending.\n",
      "Failed to upload edufineweb_train_000045.npy due to exception: A process in the process pool was terminated abruptly while the future was running or pending.\n",
      "Failed to upload edufineweb_train_000079.npy due to exception: A process in the process pool was terminated abruptly while the future was running or pending.\n",
      "Failed to upload edufineweb_train_000078.npy due to exception: A process in the process pool was terminated abruptly while the future was running or pending.\n",
      "Failed to upload edufineweb_train_000044.npy due to exception: A process in the process pool was terminated abruptly while the future was running or pending.\n",
      "Failed to upload edufineweb_train_000050.npy due to exception: A process in the process pool was terminated abruptly while the future was running or pending.\n",
      "Failed to upload edufineweb_train_000087.npy due to exception: A process in the process pool was terminated abruptly while the future was running or pending.\n",
      "Failed to upload edufineweb_train_000093.npy due to exception: A process in the process pool was terminated abruptly while the future was running or pending.\n",
      "Failed to upload edufineweb_train_000085.npy due to exception: A process in the process pool was terminated abruptly while the future was running or pending.\n",
      "Failed to upload edufineweb_train_000091.npy due to exception: A process in the process pool was terminated abruptly while the future was running or pending.\n",
      "Failed to upload edufineweb_train_000046.npy due to exception: A process in the process pool was terminated abruptly while the future was running or pending.\n",
      "Failed to upload edufineweb_train_000052.npy due to exception: A process in the process pool was terminated abruptly while the future was running or pending.\n",
      "Failed to upload edufineweb_train_000053.npy due to exception: A process in the process pool was terminated abruptly while the future was running or pending.\n",
      "Failed to upload edufineweb_train_000047.npy due to exception: A process in the process pool was terminated abruptly while the future was running or pending.\n",
      "Failed to upload edufineweb_train_000090.npy due to exception: A process in the process pool was terminated abruptly while the future was running or pending.\n",
      "Failed to upload edufineweb_train_000084.npy due to exception: A process in the process pool was terminated abruptly while the future was running or pending.\n",
      "Failed to upload edufineweb_train_000089.npy due to exception: A process in the process pool was terminated abruptly while the future was running or pending.\n",
      "Failed to upload edufineweb_train_000062.npy due to exception: A process in the process pool was terminated abruptly while the future was running or pending.\n",
      "Failed to upload edufineweb_train_000076.npy due to exception: A process in the process pool was terminated abruptly while the future was running or pending.\n",
      "Failed to upload edufineweb_train_000077.npy due to exception: A process in the process pool was terminated abruptly while the future was running or pending.\n",
      "Failed to upload edufineweb_train_000063.npy due to exception: A process in the process pool was terminated abruptly while the future was running or pending.\n",
      "Failed to upload edufineweb_train_000088.npy due to exception: A process in the process pool was terminated abruptly while the future was running or pending.\n",
      "Failed to upload edufineweb_train_000049.npy due to exception: A process in the process pool was terminated abruptly while the future was running or pending.\n",
      "Failed to upload edufineweb_train_000075.npy due to exception: A process in the process pool was terminated abruptly while the future was running or pending.\n",
      "Failed to upload edufineweb_train_000061.npy due to exception: A process in the process pool was terminated abruptly while the future was running or pending.\n",
      "Failed to upload edufineweb_train_000060.npy due to exception: A process in the process pool was terminated abruptly while the future was running or pending.\n",
      "Failed to upload edufineweb_train_000074.npy due to exception: A process in the process pool was terminated abruptly while the future was running or pending.\n",
      "Failed to upload edufineweb_train_000048.npy due to exception: A process in the process pool was terminated abruptly while the future was running or pending.\n",
      "Failed to upload edufineweb_train_000070.npy due to exception: A process in the process pool was terminated abruptly while the future was running or pending.\n",
      "Failed to upload edufineweb_train_000064.npy due to exception: A process in the process pool was terminated abruptly while the future was running or pending.\n",
      "Failed to upload edufineweb_train_000058.npy due to exception: A process in the process pool was terminated abruptly while the future was running or pending.\n",
      "Failed to upload edufineweb_train_000059.npy due to exception: A process in the process pool was terminated abruptly while the future was running or pending.\n",
      "Failed to upload edufineweb_train_000065.npy due to exception: A process in the process pool was terminated abruptly while the future was running or pending.\n",
      "Failed to upload edufineweb_train_000071.npy due to exception: A process in the process pool was terminated abruptly while the future was running or pending.\n",
      "Failed to upload edufineweb_train_000067.npy due to exception: A process in the process pool was terminated abruptly while the future was running or pending.\n",
      "Failed to upload edufineweb_train_000073.npy due to exception: A process in the process pool was terminated abruptly while the future was running or pending.\n",
      "Failed to upload edufineweb_train_000072.npy due to exception: A process in the process pool was terminated abruptly while the future was running or pending.\n",
      "Failed to upload edufineweb_train_000066.npy due to exception: A process in the process pool was terminated abruptly while the future was running or pending.\n",
      "Failed to upload edufineweb_train_000029.npy due to exception: A process in the process pool was terminated abruptly while the future was running or pending.\n",
      "Failed to upload edufineweb_train_000001.npy due to exception: A process in the process pool was terminated abruptly while the future was running or pending.\n",
      "Failed to upload edufineweb_train_000015.npy due to exception: A process in the process pool was terminated abruptly while the future was running or pending.\n",
      "Failed to upload edufineweb_train_000014.npy due to exception: A process in the process pool was terminated abruptly while the future was running or pending.\n",
      "Failed to upload edufineweb_train_000028.npy due to exception: A process in the process pool was terminated abruptly while the future was running or pending.\n",
      "Failed to upload edufineweb_train_000016.npy due to exception: A process in the process pool was terminated abruptly while the future was running or pending.\n",
      "Failed to upload edufineweb_train_000002.npy due to exception: A process in the process pool was terminated abruptly while the future was running or pending.\n",
      "Failed to upload edufineweb_train_000003.npy due to exception: A process in the process pool was terminated abruptly while the future was running or pending.\n",
      "Failed to upload edufineweb_train_000017.npy due to exception: A process in the process pool was terminated abruptly while the future was running or pending.\n",
      "Failed to upload edufineweb_train_000013.npy due to exception: A process in the process pool was terminated abruptly while the future was running or pending.\n",
      "Failed to upload edufineweb_train_000007.npy due to exception: A process in the process pool was terminated abruptly while the future was running or pending.\n",
      "Failed to upload edufineweb_train_000006.npy due to exception: A process in the process pool was terminated abruptly while the future was running or pending.\n",
      "Failed to upload edufineweb_train_000012.npy due to exception: A process in the process pool was terminated abruptly while the future was running or pending.\n",
      "Failed to upload edufineweb_train_000004.npy due to exception: A process in the process pool was terminated abruptly while the future was running or pending.\n",
      "Failed to upload edufineweb_train_000010.npy due to exception: A process in the process pool was terminated abruptly while the future was running or pending.\n",
      "Failed to upload edufineweb_train_000038.npy due to exception: A process in the process pool was terminated abruptly while the future was running or pending.\n",
      "Failed to upload edufineweb_train_000039.npy due to exception: A process in the process pool was terminated abruptly while the future was running or pending.\n",
      "Failed to upload edufineweb_train_000011.npy due to exception: A process in the process pool was terminated abruptly while the future was running or pending.\n",
      "Failed to upload edufineweb_train_000005.npy due to exception: A process in the process pool was terminated abruptly while the future was running or pending.\n"
     ]
    }
   ],
   "source": [
    "upload_many_blobs_with_transfer_manager(REMOTE_BUCKET_NAME, file_names, DATA_CACHE_DIR, workers)"
   ]
  },
  {
   "cell_type": "markdown",
   "id": "dc51a361",
   "metadata": {},
   "source": [
    "# test out if encodings work"
   ]
  },
  {
   "cell_type": "code",
   "execution_count": 31,
   "id": "2b422fa1",
   "metadata": {},
   "outputs": [],
   "source": [
    "import tiktoken\n",
    "import numpy as np\n",
    "enc = tiktoken.encoding_for_model(\"gpt-4\") # 'cl100k_base'"
   ]
  },
  {
   "cell_type": "code",
   "execution_count": 36,
   "id": "e8d43a41",
   "metadata": {},
   "outputs": [
    {
     "name": "stdout",
     "output_type": "stream",
     "text": [
      "<|endoftext|>The Independent Jane\n",
      "For all the love,\n"
     ]
    }
   ],
   "source": [
    "tokens = np.load(\"edu_fineweb10B/edufineweb_val_000000.npy\")\n",
    "print(enc.decode(tokens[:10]))"
   ]
  },
  {
   "cell_type": "code",
   "execution_count": 48,
   "id": "2166c579",
   "metadata": {},
   "outputs": [
    {
     "data": {
      "text/plain": [
       "97"
      ]
     },
     "execution_count": 48,
     "metadata": {},
     "output_type": "execute_result"
    }
   ],
   "source": [
    "len(os.listdir(DATA_CACHE_DIR))"
   ]
  },
  {
   "cell_type": "code",
   "execution_count": null,
   "id": "57681441",
   "metadata": {},
   "outputs": [],
   "source": []
  }
 ],
 "metadata": {
  "kernelspec": {
   "display_name": "pytorch-old",
   "language": "python",
   "name": "python3"
  },
  "language_info": {
   "codemirror_mode": {
    "name": "ipython",
    "version": 3
   },
   "file_extension": ".py",
   "mimetype": "text/x-python",
   "name": "python",
   "nbconvert_exporter": "python",
   "pygments_lexer": "ipython3",
   "version": "3.11.11"
  }
 },
 "nbformat": 4,
 "nbformat_minor": 5
}
