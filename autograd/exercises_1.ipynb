{
 "cells": [
  {
   "cell_type": "markdown",
   "id": "9e56b7cd-6fd5-40c4-b9ff-089d7c1ea7b7",
   "metadata": {},
   "source": [
    "# section 1: derivatives"
   ]
  },
  {
   "cell_type": "code",
   "execution_count": 2,
   "id": "8dd883b3-f2cd-43a7-b6a0-eaeffca23f00",
   "metadata": {},
   "outputs": [
    {
     "name": "stdout",
     "output_type": "stream",
     "text": [
      "6.336362190988558\n"
     ]
    }
   ],
   "source": [
    "# here is a mathematical expression that takes 3 inputs and produces one output\n",
    "from math import sin, cos\n",
    "\n",
    "def f(a, b, c):\n",
    "  return -a**3 + sin(3*b) - 1.0/c + b**2.5 - a**0.5\n",
    "\n",
    "print(f(2, 3, 4))"
   ]
  },
  {
   "cell_type": "code",
   "execution_count": 5,
   "id": "64a8b8b2-4129-4fae-851d-b7999263b42e",
   "metadata": {},
   "outputs": [
    {
     "name": "stdout",
     "output_type": "stream",
     "text": [
      "OK for dim 0: expected -12.353553390593273, yours returns -12.353553390593273\n",
      "OK for dim 1: expected 10.25699027111255, yours returns 10.25699027111255\n",
      "OK for dim 2: expected 0.0625, yours returns 0.0625\n"
     ]
    }
   ],
   "source": [
    "# write the function df that returns the analytical gradient of f\n",
    "# i.e. use your skills from calculus to take the derivative, then implement the formula\n",
    "# if you do not calculus then feel free to ask wolframalpha, e.g.:\n",
    "# https://www.wolframalpha.com/input?i=d%2Fda%28sin%283*a%29%29%29\n",
    "\n",
    "def gradf(a, b, c):\n",
    "  # return [0, 0, 0] # todo, return [df/da, df/db, df/dc]\n",
    "    grad_a = -3.0 * (a ** 2) - 0.5 * (a**(-0.5))\n",
    "    grad_b = 3.0 * cos(3*b) + 2.5 * (b ** 1.5)\n",
    "    grad_c = c**(-2)\n",
    "    return [grad_a, grad_b, grad_c]\n",
    "\n",
    "# expected answer is the list of \n",
    "ans = [-12.353553390593273, 10.25699027111255, 0.0625]\n",
    "yours = gradf(2, 3, 4)\n",
    "for dim in range(3):\n",
    "  ok = 'OK' if abs(yours[dim] - ans[dim]) < 1e-5 else 'WRONG!'\n",
    "  print(f\"{ok} for dim {dim}: expected {ans[dim]}, yours returns {yours[dim]}\")\n"
   ]
  },
  {
   "cell_type": "code",
   "execution_count": 18,
   "id": "45ef1463-20fb-41af-b193-22b396133bc7",
   "metadata": {},
   "outputs": [
    {
     "name": "stdout",
     "output_type": "stream",
     "text": [
      "OK for dim 0: expected -12.353553390593273, yours returns -12.353559348809995\n",
      "OK for dim 1: expected 10.25699027111255, yours returns 10.256991666679482\n",
      "OK for dim 2: expected 0.0625, yours returns 0.062499984743169534\n"
     ]
    }
   ],
   "source": [
    "# now estimate the gradient numerically without any calculus, using\n",
    "# the approximation we used in the video.\n",
    "# you should not call the function df from the last cell\n",
    "\n",
    "h = 1e-6\n",
    "\n",
    "a = 2.0\n",
    "b = 3.0\n",
    "c = 4.0\n",
    "\n",
    "grad_a = (f(a + h, b, c) - f(a, b, c))/h\n",
    "grad_b = (f(a, b + h, c) - f(a, b, c))/h\n",
    "grad_c = (f(a, b, c + h) - f(a, b, c))/h\n",
    "\n",
    "\n",
    "# -----------\n",
    "numerical_grad = [grad_a, grad_b, grad_c] # TODO\n",
    "# -----------\n",
    "\n",
    "for dim in range(3):\n",
    "  ok = 'OK' if abs(numerical_grad[dim] - ans[dim]) < 1e-5 else 'WRONG!'\n",
    "  print(f\"{ok} for dim {dim}: expected {ans[dim]}, yours returns {numerical_grad[dim]}\")\n"
   ]
  },
  {
   "cell_type": "markdown",
   "id": "95869148-78a5-496d-9d2f-01a3bb4af56c",
   "metadata": {},
   "source": [
    "### symmetric derivative"
   ]
  },
  {
   "cell_type": "code",
   "execution_count": 20,
   "id": "e23aefa4-531c-4d32-b96f-e803c34fc8d9",
   "metadata": {},
   "outputs": [
    {
     "name": "stdout",
     "output_type": "stream",
     "text": [
      "OK for dim 0: expected -12.353553390593273, yours returns -12.353553391353245\n",
      "OK for dim 1: expected 10.25699027111255, yours returns 10.25699027401572\n",
      "OK for dim 2: expected 0.0625, yours returns 0.06250000028629188\n"
     ]
    }
   ],
   "source": [
    "# there is an alternative formula that provides a much better numerical \n",
    "# approximation to the derivative of a function.\n",
    "# learn about it here: https://en.wikipedia.org/wiki/Symmetric_derivative\n",
    "# implement it. confirm that for the same step size h this version gives a\n",
    "# better approximation.\n",
    "\n",
    "h = 1e-6\n",
    "\n",
    "a = 2.0\n",
    "b = 3.0\n",
    "c = 4.0\n",
    "\n",
    "grad_a = (f(a + h, b, c) - f(a - h, b, c)) / (2.0 * h)\n",
    "grad_b = (f(a, b + h, c) - f(a, b - h, c)) / (2.0 * h)\n",
    "grad_c = (f(a, b, c + h) - f(a, b, c - h)) / (2.0 * h)\n",
    "\n",
    "\n",
    "\n",
    "# -----------\n",
    "numerical_grad2 = [grad_a, grad_b, grad_c] # TODO\n",
    "# -----------\n",
    "\n",
    "for dim in range(3):\n",
    "  ok = 'OK' if abs(numerical_grad2[dim] - ans[dim]) < 1e-5 else 'WRONG!'\n",
    "  print(f\"{ok} for dim {dim}: expected {ans[dim]}, yours returns {numerical_grad2[dim]}\")\n"
   ]
  },
  {
   "cell_type": "markdown",
   "id": "30f583ed-b54c-47d1-87f9-5cc83ea4f335",
   "metadata": {},
   "source": [
    "# section 2: support for softmax"
   ]
  },
  {
   "cell_type": "code",
   "execution_count": 68,
   "id": "3a1749e0-2e17-4afe-bec9-13c9f8bd02d6",
   "metadata": {},
   "outputs": [],
   "source": [
    "# Value class starter code, with many functions taken out\n",
    "from math import exp, log\n",
    "\n",
    "class Value:\n",
    "  \n",
    "  def __init__(self, data, _children=(), _op='', label=''):\n",
    "    self.data = data\n",
    "    self.grad = 0.0\n",
    "    self._backward = lambda: None\n",
    "    self._prev = set(_children)\n",
    "    self._op = _op\n",
    "    self.label = label\n",
    "\n",
    "  def __repr__(self):\n",
    "    return f\"Value(data={self.data})\"\n",
    "\n",
    "  def __mul__(self, other):\n",
    "    other = other if isinstance(other, Value) else Value(other)\n",
    "    out = Value(self.data * other.data, (self, other), '*')\n",
    "\n",
    "    def _backward():\n",
    "        self.grad += other.data * out.grad\n",
    "        other.grad += self.data * out.grad\n",
    "    out._backward = _backward\n",
    "\n",
    "    return out\n",
    "  \n",
    "  def __add__(self, other): # exactly as in the video\n",
    "    other = other if isinstance(other, Value) else Value(other)\n",
    "    out = Value(self.data + other.data, (self, other), '+')\n",
    "    \n",
    "    def _backward():\n",
    "      self.grad += 1.0 * out.grad\n",
    "      other.grad += 1.0 * out.grad\n",
    "    out._backward = _backward\n",
    "    \n",
    "    return out\n",
    "  \n",
    "  # ------\n",
    "  # re-implement all the other functions needed for the exercises below\n",
    "  def exp(self):\n",
    "    out = Value(exp(self.data), (self,), 'exp')\n",
    "\n",
    "    def _backward():\n",
    "        self.grad += out.data * out.grad\n",
    "    out._backward = _backward\n",
    "\n",
    "    return out\n",
    "\n",
    "  def log(self):\n",
    "    out = Value(log(self.data), (self,), 'log')\n",
    "\n",
    "    def _backward():\n",
    "        self.grad += (1/self.data) * out.grad\n",
    "    out._backward = _backward\n",
    "\n",
    "    return out\n",
    "\n",
    "  def __pow__(self, other):\n",
    "    assert isinstance(other, (int, float)), \"only supporting int or float for now\"\n",
    "    out = Value(self.data**other, (self,), f'**{other}')\n",
    "\n",
    "    def _backward():\n",
    "        self.grad += (other) * (self.data ** (other - 1)) * out.grad\n",
    "    out._backward = _backward\n",
    "\n",
    "    return out\n",
    "\n",
    "  def __radd__(self, other):\n",
    "    return self + other\n",
    "\n",
    "  def __truediv__(self, other):\n",
    "    return self * other**-1\n",
    "\n",
    "  def __rmul__(self, other):\n",
    "    return self * other\n",
    "\n",
    "  def __neg__(self):\n",
    "      return self * -1\n",
    "\n",
    "  # ------\n",
    "\n",
    "  def backward(self): # exactly as in video  \n",
    "    topo = []\n",
    "    visited = set()\n",
    "    def build_topo(v):\n",
    "      if v not in visited:\n",
    "        visited.add(v)\n",
    "        for child in v._prev:\n",
    "          build_topo(child)\n",
    "        topo.append(v)\n",
    "    build_topo(self)\n",
    "    \n",
    "    self.grad = 1.0\n",
    "    for node in reversed(topo):\n",
    "      node._backward()"
   ]
  },
  {
   "cell_type": "code",
   "execution_count": 89,
   "id": "218f3950-b6fb-4c29-8a2d-1dce81f0ad24",
   "metadata": {},
   "outputs": [
    {
     "name": "stdout",
     "output_type": "stream",
     "text": [
      "counts2 ids: [13344460480, 13344458848, 13344461440, 13344460048]\n",
      "count ids: [13344463840, 13344463264, 13344470416, 13344458704]\n",
      "[Value(data=0.04177257051535045), Value(data=0.839024507462532), Value(data=0.00565330266221633), Value(data=0.11354961935990122)]\n",
      "2.1755153626167147\n",
      "OK for dim 0: expected 0.041772570515350445, yours returns 0.041772570515350445\n",
      "OK for dim 1: expected 0.8390245074625319, yours returns 0.8390245074625319\n",
      "OK for dim 2: expected 0.005653302662216329, yours returns 0.005653302662216329\n",
      "OK for dim 3: expected -0.8864503806400986, yours returns -0.8864503806400986\n"
     ]
    }
   ],
   "source": [
    "# without referencing our code/video __too__ much, make this cell work\n",
    "# you'll have to implement (in some cases re-implemented) a number of functions\n",
    "# of the Value object, similar to what we've seen in the video.\n",
    "# instead of the squared error loss this implements the negative log likelihood\n",
    "# loss, which is very often used in classification.\n",
    "\n",
    "# this is the softmax function\n",
    "# https://en.wikipedia.org/wiki/Softmax_function\n",
    "def softmax(logits):\n",
    "  counts = [logit.exp() for logit in logits]\n",
    "  # why does this work even though the c's are from different objects?\n",
    "  # its because the logits are the same object even though logit.exp() is different so grads get deposited the same way\n",
    "  denominator = sum(counts)\n",
    "  out = [c / denominator for c in counts]\n",
    "  return out\n",
    "\n",
    "# this is the negative log likelihood loss function, pervasive in classification\n",
    "logits = [Value(0.0), Value(3.0), Value(-2.0), Value(1.0)] # from 1 forward-pass, not 4 different ones\n",
    "probs = softmax(logits)\n",
    "print(probs)\n",
    "loss = -probs[3].log() # dim 3 acts as the label for this input example\n",
    "loss.backward()\n",
    "print(loss.data)\n",
    "\n",
    "ans = [0.041772570515350445, 0.8390245074625319, 0.005653302662216329, -0.8864503806400986]\n",
    "for dim in range(4):\n",
    "  ok = 'OK' if abs(logits[dim].grad - ans[dim]) < 1e-5 else 'WRONG!'\n",
    "  print(f\"{ok} for dim {dim}: expected {ans[dim]}, yours returns {logits[dim].grad}\")\n"
   ]
  },
  {
   "cell_type": "markdown",
   "id": "d5cf2fb1-1663-41bd-880d-f037c852bf47",
   "metadata": {},
   "source": [
    "## in pytorch"
   ]
  },
  {
   "cell_type": "code",
   "execution_count": 186,
   "id": "5f709193-2fb5-4c5c-ad6d-ab2fb19bb50b",
   "metadata": {},
   "outputs": [],
   "source": [
    "# verify the gradient using the torch library\n",
    "# torch should give you the exact same gradient\n",
    "import torch\n",
    "import torch.nn.functional as F"
   ]
  },
  {
   "cell_type": "code",
   "execution_count": 187,
   "id": "1688ddaf-3588-4a6d-9203-5308f3d18f75",
   "metadata": {},
   "outputs": [
    {
     "data": {
      "text/plain": [
       "tensor([ 0.,  3., -2.,  1.], dtype=torch.float64, requires_grad=True)"
      ]
     },
     "execution_count": 187,
     "metadata": {},
     "output_type": "execute_result"
    }
   ],
   "source": [
    "logit_tensor = torch.Tensor([0, 3, -2, 1]).double()\n",
    "logit_tensor.requires_grad = True\n",
    "logit_tensor"
   ]
  },
  {
   "cell_type": "code",
   "execution_count": 188,
   "id": "3fe58a9d-0013-4e44-886c-ac05ec92b823",
   "metadata": {},
   "outputs": [
    {
     "data": {
      "text/plain": [
       "2.1755153626167143"
      ]
     },
     "execution_count": 188,
     "metadata": {},
     "output_type": "execute_result"
    }
   ],
   "source": [
    "loss = -F.log_softmax(logit_tensor, dim=-1)[3]\n",
    "loss.backward()\n",
    "loss.data.item()"
   ]
  },
  {
   "cell_type": "code",
   "execution_count": 189,
   "id": "ece02a03-8f7e-4612-a734-06bee51d8927",
   "metadata": {},
   "outputs": [
    {
     "data": {
      "text/plain": [
       "tensor([ 0.0418,  0.8390,  0.0057, -0.8865], dtype=torch.float64)"
      ]
     },
     "execution_count": 189,
     "metadata": {},
     "output_type": "execute_result"
    }
   ],
   "source": [
    "logit_tensor.grad"
   ]
  },
  {
   "cell_type": "markdown",
   "id": "93a9c8e6-9ffb-418f-bc8f-2154d64cd9f6",
   "metadata": {},
   "source": [
    "## tanh vs softmax"
   ]
  },
  {
   "cell_type": "code",
   "execution_count": 153,
   "id": "8111a222-0f5c-4e1a-b70c-39d7a5d6a57c",
   "metadata": {},
   "outputs": [
    {
     "name": "stdout",
     "output_type": "stream",
     "text": [
      "tanh [0.76159416 0.96402758 0.99505475]\n",
      "softmax [0.09003057 0.24472847 0.66524096]\n"
     ]
    }
   ],
   "source": [
    "import numpy as np\n",
    "\n",
    "input_vector = np.array([1, 2, 3])\n",
    "tanh_output = np.tanh(input_vector)\n",
    "print('tanh', tanh_output)\n",
    "\n",
    "# softmax considers the entire vector\n",
    "def softmax(x):\n",
    "    exp_x = np.exp(x)\n",
    "    return exp_x / np.sum(exp_x)\n",
    "\n",
    "softmax_output = softmax(input_vector)\n",
    "print('softmax', softmax_output)"
   ]
  },
  {
   "cell_type": "code",
   "execution_count": 160,
   "id": "e292c355-d989-47ca-a121-3c2a4cac2381",
   "metadata": {},
   "outputs": [
    {
     "data": {
      "text/plain": [
       "array([0.1, 0.2, 0.3, 0.4])"
      ]
     },
     "execution_count": 160,
     "metadata": {},
     "output_type": "execute_result"
    }
   ],
   "source": [
    "example = np.array([1, 2, 3, 4])\n",
    "example / np.sum(example)"
   ]
  },
  {
   "cell_type": "code",
   "execution_count": null,
   "id": "feb66a11-f845-41fe-bddb-794c6fe84b18",
   "metadata": {},
   "outputs": [],
   "source": []
  }
 ],
 "metadata": {
  "kernelspec": {
   "display_name": "Python 3 (ipykernel)",
   "language": "python",
   "name": "python3"
  },
  "language_info": {
   "codemirror_mode": {
    "name": "ipython",
    "version": 3
   },
   "file_extension": ".py",
   "mimetype": "text/x-python",
   "name": "python",
   "nbconvert_exporter": "python",
   "pygments_lexer": "ipython3",
   "version": "3.12.4"
  }
 },
 "nbformat": 4,
 "nbformat_minor": 5
}
