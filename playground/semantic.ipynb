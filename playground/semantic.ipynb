{
 "cells": [
  {
   "cell_type": "code",
   "execution_count": 3,
   "metadata": {},
   "outputs": [
    {
     "data": {
      "text/plain": [
       "True"
      ]
     },
     "execution_count": 3,
     "metadata": {},
     "output_type": "execute_result"
    }
   ],
   "source": [
    "import os\n",
    "import getpass\n",
    "from dotenv import load_dotenv\n",
    "\n",
    "load_dotenv(override=True)"
   ]
  },
  {
   "cell_type": "code",
   "execution_count": null,
   "metadata": {},
   "outputs": [
    {
     "name": "stderr",
     "output_type": "stream",
     "text": [
      "Created a chunk of size 1323, which is longer than the specified 1000\n",
      "Created a chunk of size 1180, which is longer than the specified 1000\n",
      "Created a chunk of size 1034, which is longer than the specified 1000\n",
      "Created a chunk of size 1375, which is longer than the specified 1000\n",
      "Created a chunk of size 1008, which is longer than the specified 1000\n",
      "Created a chunk of size 1151, which is longer than the specified 1000\n",
      "Created a chunk of size 1119, which is longer than the specified 1000\n",
      "Created a chunk of size 1013, which is longer than the specified 1000\n",
      "Created a chunk of size 1105, which is longer than the specified 1000\n",
      "Created a chunk of size 1020, which is longer than the specified 1000\n",
      "Created a chunk of size 1066, which is longer than the specified 1000\n",
      "Created a chunk of size 1008, which is longer than the specified 1000\n",
      "Created a chunk of size 1074, which is longer than the specified 1000\n",
      "Created a chunk of size 1158, which is longer than the specified 1000\n",
      "Created a chunk of size 1391, which is longer than the specified 1000\n",
      "Created a chunk of size 1403, which is longer than the specified 1000\n",
      "Created a chunk of size 1355, which is longer than the specified 1000\n",
      "Created a chunk of size 1189, which is longer than the specified 1000\n",
      "Created a chunk of size 1028, which is longer than the specified 1000\n",
      "Created a chunk of size 1113, which is longer than the specified 1000\n",
      "Created a chunk of size 1065, which is longer than the specified 1000\n",
      "Created a chunk of size 1275, which is longer than the specified 1000\n",
      "Created a chunk of size 1399, which is longer than the specified 1000\n",
      "Created a chunk of size 1288, which is longer than the specified 1000\n",
      "Created a chunk of size 1008, which is longer than the specified 1000\n",
      "Created a chunk of size 1009, which is longer than the specified 1000\n",
      "Created a chunk of size 1387, which is longer than the specified 1000\n",
      "Created a chunk of size 1205, which is longer than the specified 1000\n",
      "Created a chunk of size 1143, which is longer than the specified 1000\n",
      "Created a chunk of size 1117, which is longer than the specified 1000\n",
      "Created a chunk of size 1128, which is longer than the specified 1000\n",
      "Created a chunk of size 1112, which is longer than the specified 1000\n",
      "Created a chunk of size 1588, which is longer than the specified 1000\n",
      "Created a chunk of size 1368, which is longer than the specified 1000\n",
      "Created a chunk of size 1173, which is longer than the specified 1000\n",
      "Created a chunk of size 1098, which is longer than the specified 1000\n",
      "Created a chunk of size 1281, which is longer than the specified 1000\n",
      "Created a chunk of size 1482, which is longer than the specified 1000\n",
      "Created a chunk of size 1021, which is longer than the specified 1000\n",
      "Created a chunk of size 1594, which is longer than the specified 1000\n",
      "Created a chunk of size 1124, which is longer than the specified 1000\n"
     ]
    }
   ],
   "source": [
    "from langchain_community.document_loaders import TextLoader\n",
    "from langchain_openai import OpenAIEmbeddings\n",
    "from langchain_text_splitters import CharacterTextSplitter\n",
    "\n",
    "# Load the document, split it into chunks, embed each chunk and load it into the vector store.\n",
    "raw_documents = TextLoader('ru.txt').load()\n",
    "text_splitter = CharacterTextSplitter(chunk_size=1000, chunk_overlap=0)\n",
    "documents = text_splitter.split_documents(raw_documents)"
   ]
  },
  {
   "cell_type": "code",
   "execution_count": 7,
   "metadata": {},
   "outputs": [],
   "source": [
    "from langchain_chroma import Chroma\n",
    "\n",
    "db = Chroma.from_documents(documents, OpenAIEmbeddings())"
   ]
  },
  {
   "cell_type": "code",
   "execution_count": 18,
   "metadata": {},
   "outputs": [],
   "source": [
    "query = \"exiled within our own country, dispossessed of everything, even of our names\"\n",
    "docs = db.similarity_search(query, 10)"
   ]
  },
  {
   "cell_type": "code",
   "execution_count": 22,
   "metadata": {},
   "outputs": [],
   "source": [
    "query2 = \"bourgeois oppressors\"\n",
    "docs2 = db.similarity_search(query2, 10)"
   ]
  },
  {
   "cell_type": "code",
   "execution_count": 24,
   "metadata": {},
   "outputs": [],
   "source": [
    "query3 = \"dispossessed of everything, even of our names\"\n",
    "docs3 = db.similarity_search(query3, 10)"
   ]
  },
  {
   "cell_type": "code",
   "execution_count": 26,
   "metadata": {},
   "outputs": [],
   "source": [
    "query4 = \"We had become pariahs, exiled within our own country, dispossessed of everything, even of our names\"\n",
    "docs4 = db.similarity_search(query4, 10)"
   ]
  },
  {
   "cell_type": "code",
   "execution_count": 27,
   "metadata": {},
   "outputs": [
    {
     "name": "stdout",
     "output_type": "stream",
     "text": [
      "1 Before our boat had weighed anchor in the middle of the \n",
      "night on the shores of Rach Gia, most of the passengers \n",
      "had just one fear: fear of the Communists, the reason for \n",
      "their flight. But as soon as the vessel was surrounded, \n",
      "encircled by the uniform blue horizon, fear was transformed \n",
      "into a hundred-faced monster who sawed off our legs and \n",
      "kept us from feeling the stiffness in our immobilized \n",
      "muscles. We were frozen in fear, by fear. We no longer \n",
      "closed our eyes when the scabious little boy’s pee sprayed \n",
      "us. We no longer pinched our noses against our \n",
      "neighbours’ vomit. We were numb, imprisoned by the \n",
      "shoulders of some, the legs of others, the fear of everyone. \n",
      "We were paralyzed.\n",
      "################\n",
      "2 One day our ten roomers dragged us to their bathroom, \n",
      "accusing us of stealing a fish they’d been given for their \n",
      "evening meal. They pointed to the toilet bowl and explained \n",
      "to us that the fish had been there that morning, hale and \n",
      "hearty. What had become of it? \n",
      "\n",
      "Thanks to that fish, we were able to establish \n",
      "communication. Later on, my father corrupted them by \n",
      "having them listen to music on the sly. I sat underneath the \n",
      "piano, in the shadows, watching tears roll down their \n",
      "cheeks, where the horrors of History, without hesitation, had \n",
      "carved grooves. After that, we no longer knew if they were \n",
      "enemies or victims, if we loved or hated them, if we feared \n",
      "or pitied them. And they no longer knew if they had freed us \n",
      "from the Americans or, on the contrary, if we had freed \n",
      "them from the jungle of Vietnam.\n",
      "################\n",
      "3 Very quickly, though, the music that had accorded them a \n",
      "kind of freedom found itself in a fire, on the rooftop terrace \n",
      "of the house. They had received an order to burn the books, \n",
      "songs, films—everything that betrayed the image of those \n",
      "men and women with muscular arms holding aloft their \n",
      "pitchforks, their hammers and their flag, red with a yellow \n",
      "star. Very quickly, they filled the sky with smoke, once \n",
      "more.\n",
      "################\n",
      "4 Because of our exile, my children have never been \n",
      "extensions of me, of my history. Their names are Pascal \n",
      "and Henri, and they don’t look like me. They have hair that's \n",
      "lighter in colour than mine, white skin, thick eyelashes. I did \n",
      "not experience the natural feelings of motherhood I’d \n",
      "expected when they were clamped onto my breasts at 3 \n",
      "a.m., in the middle of the night. The maternal instinct came \n",
      "to me much later, over the course of sleepless nights, dirty \n",
      "diapers, unexpected smiles, sudden delights.\n",
      "################\n",
      "5 However, far from us, blood still flowed and bombs still \n",
      "fell, so she taught us to get down on our knees like the \n",
      "servants. Every day, she made me wash four tiles on the \n",
      "floor and clean twenty sprouted beans by removing their \n",
      "roots one by one. She was preparing us for the collapse. \n",
      "She was right to do so, because very soon we no longer \n",
      "had a floor beneath our feet. \n",
      "\n",
      "During our first nights as refugees in Malaysia, we slept \n",
      "right on the red earth, without a floor. The Red Cross had \n",
      "built refugee camps in the countries adjoining Vietnam to \n",
      "receive the boat people—those who had survived the sea \n",
      "journey. The others, those who'd gone down during the \n",
      "crossing, had no names. They died anonymously. We were \n",
      "among those who had been lucky enough to wash up on dry \n",
      "land. We felt blessed to be among the two thousand \n",
      "refugees in a camp that was intended to hold two hundred.\n",
      "################\n",
      "6 I or us, they didn’t see the blackboards they wiped clean, \n",
      "the school toilets they scrubbed, the imperial rolls they \n",
      "delivered. They saw only what lay ahead. And so to make \n",
      "progress my brothers and I followed where their eyes led \n",
      "us. I met parents whose gaze had been extinguished, some \n",
      "beneath the weight of a pirate’s body, others during the all \n",
      "too many years of Communist re-education camps—not \n",
      "the war camps during the war, but the peacetime camps \n",
      "after the war.\n",
      "################\n",
      "7 w hen I got home, I repeated the same sequence of \n",
      "sounds to my parents: \"My name is Marie-France, what’s \n",
      "yours?” They asked me if I’d changed my name. It was at \n",
      "that split second that my present reality caught up to me, \n",
      "when the deafness and muteness of the moment erased \n",
      "my dreams and thus the power to look ahead, to look far \n",
      "ahead. \n",
      "\n",
      "My parents, though they already spoke French, could not \n",
      "look far ahead either, for they’d been expelled from the \n",
      "Introduction to French course, that is, struck off the list of \n",
      "people who would receive an allowance of forty dollars a \n",
      "week. They were overqualified for the course but \n",
      "underqualified for everything else. Unable to look ahead of \n",
      "themselves, they looked ahead of us, for us, their children.\n",
      "################\n",
      "8 The police were ordered to allow all boats carrying \n",
      "Vietnamese of Chinese background to leave “in secret.” \n",
      "The Chinese were capitalists, hence anti-Communist, \n",
      "because of their ethnic background and their accent. But \n",
      "the inspectors were allowed to search them, to strip them of \n",
      "everything they owned till the very last minute, to the point of \n",
      "humiliation. My family and I became Chinese. We called on \n",
      "the genes of my ancestors so that we could leave with the \n",
      "tacit consent of the police.\n",
      "################\n",
      "9 I went barefoot for days, waiting for my mother to find an \n",
      "orphan slipper belonging to another child who’d also lost \n",
      "one. I walked directly on the clay soil where maggots had \n",
      "been crawling a week before. With every heavy rainfall they \n",
      "emerged from the cesspit in the hundreds of thousands, as \n",
      "if summoned by a messiah. They all headed for the side of \n",
      "our hill and climbed without ever tiring, without ever falling. \n",
      "They crawled up to our feet, all to the same rhythm, \n",
      "transforming the red clay soil into an undulating white \n",
      "carpet. There were so many that we gave up before we’d \n",
      "even started to fight. They became invincible, we became \n",
      "vulnerable. We let them extend their territory until the rains \n",
      "stopped, when they became vulnerable in turn. \n",
      "\n",
      "vv hen the Communists entered Saigon, my family \n",
      "handed over half of our property because we’d become \n",
      "vulnerable. A brick wall was erected to establish two \n",
      "addresses: one for us and one for the local police station.\n",
      "################\n",
      "10 For many immigrants, the American dream has come \n",
      "true. Some thirty years ago, in Washington, Quebec City, \n",
      "Boston, Rimouski or Toronto, we would pass through whole \n",
      "neighbourhoods strewn with rose gardens, hundred-year- \n",
      "old trees, stone houses, but the address we were looking \n",
      "for never appeared on one of those doors. Nowadays, my \n",
      "aunt Six and her husband, Step-uncle Six, live in one of \n",
      "those houses. They travel first class and have to stick a \n",
      "sign on the back of their seat so the hostesses will stop \n",
      "offering them chocolates and champagne. Thirty years ago, \n",
      "in our Malaysian refugee camp, the same Step-uncle Six \n",
      "crawled more slowly than his eight-month-old daughter \n",
      "because he was suffering from malnutrition. And the same \n",
      "Aunt Six used the one needle she had to sew clothes so \n",
      "she could buy milk for her daughter. Thirty years ago, we \n",
      "lived in the dark with them, with no electricity, no running \n",
      "water, no privacy. Today, we complain that their house is \n",
      "too big and our extended family too small to experience the \n",
      "same intensity of the festivities—which lasted until dawn— \n",
      "when we used to get together at my parents’ place during \n",
      "our first years in North America.\n",
      "################\n"
     ]
    }
   ],
   "source": [
    "a = list(docs4[i].page_content for i in range(len(docs4)))\n",
    "i = 1\n",
    "for item in a:\n",
    "    print(i, item)\n",
    "    print(\"################\")\n",
    "    i+=1"
   ]
  },
  {
   "cell_type": "code",
   "execution_count": null,
   "metadata": {},
   "outputs": [],
   "source": []
  }
 ],
 "metadata": {
  "kernelspec": {
   "display_name": "pytorch",
   "language": "python",
   "name": "python3"
  },
  "language_info": {
   "codemirror_mode": {
    "name": "ipython",
    "version": 3
   },
   "file_extension": ".py",
   "mimetype": "text/x-python",
   "name": "python",
   "nbconvert_exporter": "python",
   "pygments_lexer": "ipython3",
   "version": "3.12.4"
  }
 },
 "nbformat": 4,
 "nbformat_minor": 2
}
